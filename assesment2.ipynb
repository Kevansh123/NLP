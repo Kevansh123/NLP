{
 "cells": [
  {
   "cell_type": "code",
   "execution_count": null,
   "id": "initial_id",
   "metadata": {
    "collapsed": true,
    "is_executing": true
   },
   "outputs": [],
   "source": [
    "print(\"hi\")\n",
    "pip insta"
   ]
  },
  {
   "cell_type": "code",
   "execution_count": 2,
   "outputs": [
    {
     "ename": "ModuleNotFoundError",
     "evalue": "No module named 'tensorflow'",
     "output_type": "error",
     "traceback": [
      "\u001B[1;31m---------------------------------------------------------------------------\u001B[0m",
      "\u001B[1;31mModuleNotFoundError\u001B[0m                       Traceback (most recent call last)",
      "Cell \u001B[1;32mIn[2], line 6\u001B[0m\n\u001B[0;32m      4\u001B[0m \u001B[38;5;28;01mimport\u001B[39;00m \u001B[38;5;21;01mnltk\u001B[39;00m\n\u001B[0;32m      5\u001B[0m \u001B[38;5;28;01mfrom\u001B[39;00m \u001B[38;5;21;01mnltk\u001B[39;00m\u001B[38;5;21;01m.\u001B[39;00m\u001B[38;5;21;01mtokenize\u001B[39;00m \u001B[38;5;28;01mimport\u001B[39;00m word_tokenize\n\u001B[1;32m----> 6\u001B[0m \u001B[38;5;28;01mfrom\u001B[39;00m \u001B[38;5;21;01mtensorflow\u001B[39;00m\u001B[38;5;21;01m.\u001B[39;00m\u001B[38;5;21;01mkeras\u001B[39;00m \u001B[38;5;28;01mimport\u001B[39;00m layers, models\n\u001B[0;32m      7\u001B[0m \u001B[38;5;28;01mfrom\u001B[39;00m \u001B[38;5;21;01mtensorflow\u001B[39;00m\u001B[38;5;21;01m.\u001B[39;00m\u001B[38;5;21;01mkeras\u001B[39;00m\u001B[38;5;21;01m.\u001B[39;00m\u001B[38;5;21;01mpreprocessing\u001B[39;00m\u001B[38;5;21;01m.\u001B[39;00m\u001B[38;5;21;01mtext\u001B[39;00m \u001B[38;5;28;01mimport\u001B[39;00m Tokenizer\n\u001B[0;32m      8\u001B[0m \u001B[38;5;28;01mfrom\u001B[39;00m \u001B[38;5;21;01mtensorflow\u001B[39;00m\u001B[38;5;21;01m.\u001B[39;00m\u001B[38;5;21;01mkeras\u001B[39;00m\u001B[38;5;21;01m.\u001B[39;00m\u001B[38;5;21;01mlayers\u001B[39;00m \u001B[38;5;28;01mimport\u001B[39;00m Input, Embedding, Flatten, Concatenate, Dense\n",
      "\u001B[1;31mModuleNotFoundError\u001B[0m: No module named 'tensorflow'"
     ]
    }
   ],
   "source": [
    "import numpy as np\n",
    "import pandas as pd\n",
    "import matplotlib.pyplot as plt\n",
    "import nltk\n",
    "from nltk.tokenize import word_tokenize\n",
    "from tensorflow.keras import layers, models\n",
    "from tensorflow.keras.preprocessing.text import Tokenizer\n",
    "from tensorflow.keras.layers import Input, Embedding, Flatten, Concatenate, Dense\n",
    "\n",
    "# Sample paragraph from your dataset\n",
    "paragraph = \"The cat sat on the mat.\"\n",
    "\n",
    "# Tokenize the paragraph\n",
    "words = word_tokenize(paragraph)\n",
    "\n",
    "# Generate word embeddings using different models\n",
    "def generate_word_embeddings(words, model):\n",
    "    # Replace 'your_model_name' with the desired model name (e.g., 'bert-base-uncased', 'glove', 'fasttext', or 'elmo')\n",
    "    your_model_name = 'your_model_name'\n",
    "    # Load the model\n",
    "    model = load_model(your_model_name)\n",
    "    # Generate word embeddings\n",
    "    embeddings = model.encode_words(words)\n",
    "    return embeddings\n",
    "\n",
    "# Generate word embeddings for the paragraph\n",
    "embeddings_bert = generate_word_embeddings(words, 'bert-base-uncased')\n",
    "embeddings_glove = generate_word_embeddings(words, 'glove')\n",
    "embeddings_fasttext = generate_word_embeddings(words, 'fasttext')\n",
    "embeddings_elmo = generate_word_embeddings(words, 'elmo')\n",
    "\n",
    "# Visualize the embeddings\n",
    "plt.figure(figsize=(12, 4))\n",
    "plt.subplot(1, 4, 1)\n",
    "plt.scatter(embeddings_bert[:, 0], embeddings_bert[:, 1])\n",
    "plt.title('BERT Embeddings')\n",
    "plt.subplot(1, 4, 2)\n",
    "plt.scatter(embeddings_glove[:, 0], embeddings_glove[:, 1])\n",
    "plt.title('GloVe Embeddings')\n",
    "plt.subplot(1, 4, 3)\n",
    "plt.scatter(embeddings_fasttext[:, 0], embeddings_fasttext[:, 1])\n",
    "plt.title('FastText Embeddings')\n",
    "plt.subplot(1, 4, 4)\n",
    "plt.scatter(embeddings_elmo[:, 0], embeddings_elmo[:, 1])\n",
    "plt.title('ELMo Embeddings')\n",
    "plt.show()\n"
   ],
   "metadata": {
    "collapsed": false,
    "ExecuteTime": {
     "end_time": "2023-12-08T14:10:38.963302900Z",
     "start_time": "2023-12-08T14:10:38.654961100Z"
    }
   },
   "id": "d782e29b624d139"
  }
 ],
 "metadata": {
  "kernelspec": {
   "display_name": "Python 3",
   "language": "python",
   "name": "python3"
  },
  "language_info": {
   "codemirror_mode": {
    "name": "ipython",
    "version": 2
   },
   "file_extension": ".py",
   "mimetype": "text/x-python",
   "name": "python",
   "nbconvert_exporter": "python",
   "pygments_lexer": "ipython2",
   "version": "2.7.6"
  }
 },
 "nbformat": 4,
 "nbformat_minor": 5
}
